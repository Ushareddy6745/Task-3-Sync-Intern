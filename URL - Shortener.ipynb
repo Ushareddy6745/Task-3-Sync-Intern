{
 "cells": [
  {
   "cell_type": "markdown",
   "id": "face9210",
   "metadata": {},
   "source": [
    "First u need to install pyshorteners"
   ]
  },
  {
   "cell_type": "code",
   "execution_count": 1,
   "id": "a9ea9144",
   "metadata": {},
   "outputs": [
    {
     "name": "stdout",
     "output_type": "stream",
     "text": [
      "Requirement already satisfied: pyshorteners in c:\\users\\ushap\\anaconda3\\lib\\site-packages (1.0.1)\n",
      "Requirement already satisfied: requests in c:\\users\\ushap\\anaconda3\\lib\\site-packages (from pyshorteners) (2.28.1)\n",
      "Requirement already satisfied: charset-normalizer<3,>=2 in c:\\users\\ushap\\anaconda3\\lib\\site-packages (from requests->pyshorteners) (2.0.4)\n",
      "Requirement already satisfied: idna<4,>=2.5 in c:\\users\\ushap\\anaconda3\\lib\\site-packages (from requests->pyshorteners) (3.3)\n",
      "Requirement already satisfied: certifi>=2017.4.17 in c:\\users\\ushap\\anaconda3\\lib\\site-packages (from requests->pyshorteners) (2022.9.14)\n",
      "Requirement already satisfied: urllib3<1.27,>=1.21.1 in c:\\users\\ushap\\anaconda3\\lib\\site-packages (from requests->pyshorteners) (1.26.11)\n",
      "Note: you may need to restart the kernel to use updated packages.\n"
     ]
    }
   ],
   "source": [
    "pip install pyshorteners\n"
   ]
  },
  {
   "cell_type": "code",
   "execution_count": 2,
   "id": "2478f409",
   "metadata": {},
   "outputs": [
    {
     "name": "stdout",
     "output_type": "stream",
     "text": [
      "Enter the Long Link:>>http://localhost:8888/notebooks/Untitled45.ipynb?kernel_name=python3\n",
      "This is your short link:>>  https://tinyurl.com/2k9yzvv4\n"
     ]
    }
   ],
   "source": [
    "from pyshorteners import *\n",
    "\n",
    "url=input(\"Enter the Long Link:>>\")\n",
    "#Short_link(\"Short Link is: \")\n",
    "\n",
    "print('This is your short link:>> ',Shortener().tinyurl.short(url))"
   ]
  },
  {
   "cell_type": "code",
   "execution_count": null,
   "id": "477c551b",
   "metadata": {},
   "outputs": [],
   "source": []
  }
 ],
 "metadata": {
  "kernelspec": {
   "display_name": "Python 3 (ipykernel)",
   "language": "python",
   "name": "python3"
  },
  "language_info": {
   "codemirror_mode": {
    "name": "ipython",
    "version": 3
   },
   "file_extension": ".py",
   "mimetype": "text/x-python",
   "name": "python",
   "nbconvert_exporter": "python",
   "pygments_lexer": "ipython3",
   "version": "3.9.13"
  }
 },
 "nbformat": 4,
 "nbformat_minor": 5
}
